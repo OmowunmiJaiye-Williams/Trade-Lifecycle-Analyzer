{
 "cells": [
  {
   "cell_type": "markdown",
   "id": "dc86f4da-0575-4edd-b53b-6ab5cf397898",
   "metadata": {},
   "source": [
    "## Step 1: Generate Mock Dataset in Python"
   ]
  },
  {
   "cell_type": "code",
   "execution_count": 88,
   "id": "d7c0a6bd-4c76-499d-8d27-c0f574686775",
   "metadata": {},
   "outputs": [],
   "source": [
    "import pandas as pd\n",
    "import numpy as np \n",
    "from datetime import datetime, timedelta\n",
    "import random\n",
    "#set seed for reproducibility (so results are consistent)\n",
    "random.seed (42)\n",
    "np.random.seed(42)\n",
    "\n",
    "# Number of records\n",
    "n=10000\n",
    "\n",
    "# Generate trade_ids (unique sequential IDs)\n",
    "trade_ids = list(range(1, n+1))"
   ]
  },
  {
   "cell_type": "code",
   "execution_count": 128,
   "id": "bf3eb9a0-1a13-4bc7-bf30-e36c9837a6b0",
   "metadata": {},
   "outputs": [],
   "source": [
    "# Generate random trade dates in the last year \n",
    "# In order words, I'm saying Give me 10,000 dates. For each date, start at Jan 1, 2024, and jump forward a random number of days (anywhere from 0 to 365 days).\n",
    "start_date = datetime(2024, 1,1)\n",
    "trade_dates = [start_date + timedelta(days=random.randint(0, 365)) for _ in range(n)]"
   ]
  },
  {
   "cell_type": "code",
   "execution_count": 92,
   "id": "ae4b62b3-f689-43ac-8bb5-8fd115152191",
   "metadata": {},
   "outputs": [],
   "source": [
    "# Generate settlement dates: normally trade_dates + 2 days, but 15% delayed by 1-5 extra days \n",
    "\n",
    "settlement_dates = []\n",
    "statuses = []\n",
    "for td in trade_dates:  # This must loop through all 10,000 trade_dates\n",
    "    if random.random() < 0.15:\n",
    "        delay = random.randint(1,5)\n",
    "        sd = td + timedelta(days=2 + delay)\n",
    "        statuses.append('Delayed')\n",
    "    else:\n",
    "        sd = td + timedelta(days=2)\n",
    "        statuses.append('Settled')\n",
    "    settlement_dates.append(sd)"
   ]
  },
  {
   "cell_type": "markdown",
   "id": "cf6585cd-660e-4c2e-a2b5-267eea92642e",
   "metadata": {},
   "source": [
    "**What the Code Does:**\n",
    "It goes through each trade_date and calculates a settlement_date. It also assigns a status:\n",
    "\n",
    "Settled (85% chance): Settlement happens 2 days after the trade (T+2 is a common standard).\n",
    "\n",
    "Delayed (15% chance): Settlement is late, happening 3 to 7 days after the trade (2 days + a random delay of 1 to 5 extra days).\n",
    "\n",
    "if random.random() < 0.15:. This line acts as a filter, ensuring that on average, for every 100 trades:\n",
    "\n"
   ]
  },
  {
   "cell_type": "code",
   "execution_count": 94,
   "id": "075a6c1a-51ba-4bd7-bb8f-51467b1f46a3",
   "metadata": {},
   "outputs": [],
   "source": [
    "# Generate amounts: random between 1000 and 1,000,000 (rounded to 2 decimals)\n",
    "amounts = np.random.uniform(1000, 1000000, n).round(2)"
   ]
  },
  {
   "cell_type": "code",
   "execution_count": 96,
   "id": "1053ae14-be39-437e-b874-3df38d467db0",
   "metadata": {},
   "outputs": [],
   "source": [
    "# Adding other neccessary columns \n",
    "counterparties = [f'Counterparty_{random.randint(1,50)}' for _ in range(n)]\n",
    "# Use np.random.choice instead of random.choices\n",
    "instrument_types = np.random.choice(['Stock', 'Bond', 'FX', 'Derivative'], size=n)\n",
    "currencies = np.random.choice(['USD', 'EUR', 'GBP', 'NGN'], size=n)"
   ]
  },
  {
   "cell_type": "code",
   "execution_count": 104,
   "id": "cea304a6-610d-44bf-8d7d-2b1183a34c3d",
   "metadata": {},
   "outputs": [],
   "source": [
    "# Create DataFrame\n",
    "trades_df = pd.DataFrame({\n",
    "    'trade_id':trade_ids,\n",
    "    'trade_date':trade_dates,\n",
    "    'settlement_date':settlement_dates,\n",
    "    'status': statuses,\n",
    "    'amount': amounts,\n",
    "    'counterparty': counterparties,\n",
    "    'instrument_type': instrument_types,\n",
    "    'currency': currencies\n",
    "})\n"
   ]
  },
  {
   "cell_type": "code",
   "execution_count": 102,
   "id": "58638c62-4430-4599-8ada-683ad6c17e14",
   "metadata": {},
   "outputs": [
    {
     "name": "stdout",
     "output_type": "stream",
     "text": [
      "Length of trade_ids: 10000\n",
      "Length of trade_dates: 10000\n",
      "Length of settlement_dates: 10000\n",
      "Length of statuses: 10000\n",
      "Length of amounts: 10000\n",
      "Length of counterparties: 10000\n",
      "Length of instrument_types: 10000\n",
      "Length of currencies: 10000\n"
     ]
    }
   ],
   "source": [
    "# Checking the length of each list for accuracy\n",
    "print(\"Length of trade_ids:\", len(trade_ids))\n",
    "print(\"Length of trade_dates:\", len(trade_dates))\n",
    "print(\"Length of settlement_dates:\", len(settlement_dates))\n",
    "print(\"Length of statuses:\", len(statuses))\n",
    "print(\"Length of amounts:\", len(amounts))\n",
    "print(\"Length of counterparties:\", len(counterparties))\n",
    "print(\"Length of instrument_types:\", len(instrument_types))\n",
    "print(\"Length of currencies:\", len(currencies))"
   ]
  },
  {
   "cell_type": "code",
   "execution_count": 106,
   "id": "c4e1da89-14b3-414b-9803-099b09f5e9f7",
   "metadata": {},
   "outputs": [
    {
     "name": "stdout",
     "output_type": "stream",
     "text": [
      "   trade_id trade_date settlement_date   status     amount     counterparty  \\\n",
      "0         1 2024-11-23      2024-11-25  Settled  375165.58  Counterparty_38   \n",
      "1         2 2024-02-27      2024-02-29  Settled  950763.59  Counterparty_40   \n",
      "2         3 2024-01-13      2024-01-15  Settled  732261.95  Counterparty_40   \n",
      "3         4 2024-05-20      2024-05-22  Settled  599059.83  Counterparty_17   \n",
      "4         5 2024-05-05      2024-05-07  Settled  156862.62  Counterparty_45   \n",
      "\n",
      "  instrument_type currency  \n",
      "0              FX      NGN  \n",
      "1      Derivative      EUR  \n",
      "2      Derivative      USD  \n",
      "3            Bond      NGN  \n",
      "4           Stock      USD  \n",
      "\n",
      "DataFrame shape: (10000, 8)\n"
     ]
    }
   ],
   "source": [
    "# Display the first few rows to check it\n",
    "print(trades_df.head())\n",
    "print(\"\\nDataFrame shape:\", trades_df.shape)"
   ]
  },
  {
   "cell_type": "code",
   "execution_count": 116,
   "id": "dda6987d-eacf-4278-a81c-38bf02f17b23",
   "metadata": {},
   "outputs": [],
   "source": [
    "# Sort the trade_date so it looks real \n",
    "\n",
    "trades_df= trades_df.sort_values('trade_date').reset_index(drop=True)"
   ]
  },
  {
   "cell_type": "code",
   "execution_count": 124,
   "id": "b4615552-e725-4d63-a2ea-f512c6ae800d",
   "metadata": {},
   "outputs": [],
   "source": [
    "# Save to CSV to get the dataset\n",
    "\n",
    "trades_df.to_csv('mock_trade_data.csv', index=False)"
   ]
  },
  {
   "cell_type": "code",
   "execution_count": 126,
   "id": "e1eea957-f13f-424f-b9aa-67e181db8f71",
   "metadata": {},
   "outputs": [
    {
     "data": {
      "text/html": [
       "<div>\n",
       "<style scoped>\n",
       "    .dataframe tbody tr th:only-of-type {\n",
       "        vertical-align: middle;\n",
       "    }\n",
       "\n",
       "    .dataframe tbody tr th {\n",
       "        vertical-align: top;\n",
       "    }\n",
       "\n",
       "    .dataframe thead th {\n",
       "        text-align: right;\n",
       "    }\n",
       "</style>\n",
       "<table border=\"1\" class=\"dataframe\">\n",
       "  <thead>\n",
       "    <tr style=\"text-align: right;\">\n",
       "      <th></th>\n",
       "      <th>trade_id</th>\n",
       "      <th>trade_date</th>\n",
       "      <th>settlement_date</th>\n",
       "      <th>status</th>\n",
       "      <th>amount</th>\n",
       "      <th>counterparty</th>\n",
       "      <th>instrument_type</th>\n",
       "      <th>currency</th>\n",
       "    </tr>\n",
       "  </thead>\n",
       "  <tbody>\n",
       "    <tr>\n",
       "      <th>0</th>\n",
       "      <td>6254</td>\n",
       "      <td>2024-01-01</td>\n",
       "      <td>2024-01-03</td>\n",
       "      <td>Settled</td>\n",
       "      <td>19063.01</td>\n",
       "      <td>Counterparty_36</td>\n",
       "      <td>FX</td>\n",
       "      <td>GBP</td>\n",
       "    </tr>\n",
       "    <tr>\n",
       "      <th>1</th>\n",
       "      <td>180</td>\n",
       "      <td>2024-01-01</td>\n",
       "      <td>2024-01-03</td>\n",
       "      <td>Settled</td>\n",
       "      <td>138383.42</td>\n",
       "      <td>Counterparty_13</td>\n",
       "      <td>Derivative</td>\n",
       "      <td>EUR</td>\n",
       "    </tr>\n",
       "    <tr>\n",
       "      <th>2</th>\n",
       "      <td>8293</td>\n",
       "      <td>2024-01-01</td>\n",
       "      <td>2024-01-03</td>\n",
       "      <td>Settled</td>\n",
       "      <td>71845.28</td>\n",
       "      <td>Counterparty_23</td>\n",
       "      <td>FX</td>\n",
       "      <td>EUR</td>\n",
       "    </tr>\n",
       "    <tr>\n",
       "      <th>3</th>\n",
       "      <td>3963</td>\n",
       "      <td>2024-01-01</td>\n",
       "      <td>2024-01-03</td>\n",
       "      <td>Settled</td>\n",
       "      <td>29623.78</td>\n",
       "      <td>Counterparty_19</td>\n",
       "      <td>Derivative</td>\n",
       "      <td>NGN</td>\n",
       "    </tr>\n",
       "    <tr>\n",
       "      <th>4</th>\n",
       "      <td>6609</td>\n",
       "      <td>2024-01-01</td>\n",
       "      <td>2024-01-03</td>\n",
       "      <td>Settled</td>\n",
       "      <td>936633.65</td>\n",
       "      <td>Counterparty_38</td>\n",
       "      <td>FX</td>\n",
       "      <td>USD</td>\n",
       "    </tr>\n",
       "    <tr>\n",
       "      <th>5</th>\n",
       "      <td>7571</td>\n",
       "      <td>2024-01-01</td>\n",
       "      <td>2024-01-03</td>\n",
       "      <td>Settled</td>\n",
       "      <td>367802.46</td>\n",
       "      <td>Counterparty_38</td>\n",
       "      <td>Stock</td>\n",
       "      <td>NGN</td>\n",
       "    </tr>\n",
       "    <tr>\n",
       "      <th>6</th>\n",
       "      <td>7912</td>\n",
       "      <td>2024-01-01</td>\n",
       "      <td>2024-01-03</td>\n",
       "      <td>Settled</td>\n",
       "      <td>413498.28</td>\n",
       "      <td>Counterparty_23</td>\n",
       "      <td>Bond</td>\n",
       "      <td>USD</td>\n",
       "    </tr>\n",
       "    <tr>\n",
       "      <th>7</th>\n",
       "      <td>3687</td>\n",
       "      <td>2024-01-01</td>\n",
       "      <td>2024-01-03</td>\n",
       "      <td>Settled</td>\n",
       "      <td>929215.57</td>\n",
       "      <td>Counterparty_3</td>\n",
       "      <td>FX</td>\n",
       "      <td>NGN</td>\n",
       "    </tr>\n",
       "    <tr>\n",
       "      <th>8</th>\n",
       "      <td>6471</td>\n",
       "      <td>2024-01-01</td>\n",
       "      <td>2024-01-03</td>\n",
       "      <td>Settled</td>\n",
       "      <td>658291.96</td>\n",
       "      <td>Counterparty_21</td>\n",
       "      <td>Derivative</td>\n",
       "      <td>NGN</td>\n",
       "    </tr>\n",
       "    <tr>\n",
       "      <th>9</th>\n",
       "      <td>4288</td>\n",
       "      <td>2024-01-01</td>\n",
       "      <td>2024-01-03</td>\n",
       "      <td>Settled</td>\n",
       "      <td>577404.63</td>\n",
       "      <td>Counterparty_48</td>\n",
       "      <td>Stock</td>\n",
       "      <td>NGN</td>\n",
       "    </tr>\n",
       "  </tbody>\n",
       "</table>\n",
       "</div>"
      ],
      "text/plain": [
       "   trade_id trade_date settlement_date   status     amount     counterparty  \\\n",
       "0      6254 2024-01-01      2024-01-03  Settled   19063.01  Counterparty_36   \n",
       "1       180 2024-01-01      2024-01-03  Settled  138383.42  Counterparty_13   \n",
       "2      8293 2024-01-01      2024-01-03  Settled   71845.28  Counterparty_23   \n",
       "3      3963 2024-01-01      2024-01-03  Settled   29623.78  Counterparty_19   \n",
       "4      6609 2024-01-01      2024-01-03  Settled  936633.65  Counterparty_38   \n",
       "5      7571 2024-01-01      2024-01-03  Settled  367802.46  Counterparty_38   \n",
       "6      7912 2024-01-01      2024-01-03  Settled  413498.28  Counterparty_23   \n",
       "7      3687 2024-01-01      2024-01-03  Settled  929215.57   Counterparty_3   \n",
       "8      6471 2024-01-01      2024-01-03  Settled  658291.96  Counterparty_21   \n",
       "9      4288 2024-01-01      2024-01-03  Settled  577404.63  Counterparty_48   \n",
       "\n",
       "  instrument_type currency  \n",
       "0              FX      GBP  \n",
       "1      Derivative      EUR  \n",
       "2              FX      EUR  \n",
       "3      Derivative      NGN  \n",
       "4              FX      USD  \n",
       "5           Stock      NGN  \n",
       "6            Bond      USD  \n",
       "7              FX      NGN  \n",
       "8      Derivative      NGN  \n",
       "9           Stock      NGN  "
      ]
     },
     "execution_count": 126,
     "metadata": {},
     "output_type": "execute_result"
    }
   ],
   "source": [
    "trades_df.head(10)"
   ]
  },
  {
   "cell_type": "code",
   "execution_count": null,
   "id": "d0caa86b-99ff-429e-a3d2-91217226d827",
   "metadata": {},
   "outputs": [],
   "source": []
  }
 ],
 "metadata": {
  "kernelspec": {
   "display_name": "Python [conda env:base] *",
   "language": "python",
   "name": "conda-base-py"
  },
  "language_info": {
   "codemirror_mode": {
    "name": "ipython",
    "version": 3
   },
   "file_extension": ".py",
   "mimetype": "text/x-python",
   "name": "python",
   "nbconvert_exporter": "python",
   "pygments_lexer": "ipython3",
   "version": "3.12.7"
  }
 },
 "nbformat": 4,
 "nbformat_minor": 5
}
